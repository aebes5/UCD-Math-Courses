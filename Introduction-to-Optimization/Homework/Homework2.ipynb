{
 "cells": [
  {
   "cell_type": "markdown",
   "id": "1ed1e89b",
   "metadata": {},
   "source": [
    "# MATH 3301 Fall 2023: Solving the Farmer Jones Problem"
   ]
  },
  {
   "cell_type": "markdown",
   "id": "815e2e17",
   "metadata": {},
   "source": [
    "## 1. Install Packages\n",
    "\n",
    "Before you do anything else, make sure to execute (shift + enter) the following two code cells to load the packages you will need to solve the model."
   ]
  },
  {
   "cell_type": "code",
   "execution_count": 1,
   "id": "b9c8ace4",
   "metadata": {
    "colab": {
     "base_uri": "https://localhost:8080/"
    },
    "executionInfo": {
     "elapsed": 16864,
     "status": "ok",
     "timestamp": 1694652484538,
     "user": {
      "displayName": "Emily Speakman",
      "userId": "07468169158597721782"
     },
     "user_tz": 360
    },
    "id": "b9c8ace4",
    "outputId": "74a55792-292d-4687-d5e9-8abee6723f3c"
   },
   "outputs": [
    {
     "name": "stdout",
     "output_type": "stream",
     "text": [
      "Requirement already satisfied: gurobipy in c:\\users\\andre\\anaconda3\\lib\\site-packages (10.0.3)\n"
     ]
    }
   ],
   "source": [
    "!pip install -q pyomo\n",
    "!pip install gurobipy"
   ]
  },
  {
   "cell_type": "code",
   "execution_count": 2,
   "id": "88e504fc",
   "metadata": {
    "executionInfo": {
     "elapsed": 7,
     "status": "ok",
     "timestamp": 1694652484539,
     "user": {
      "displayName": "Emily Speakman",
      "userId": "07468169158597721782"
     },
     "user_tz": 360
    },
    "id": "88e504fc"
   },
   "outputs": [],
   "source": [
    "import pyomo.environ as pyo"
   ]
  },
  {
   "cell_type": "markdown",
   "id": "68fbbe92",
   "metadata": {},
   "source": [
    "## 2. Build the Model\n",
    "\n",
    "The code below enters the model into Python.  Note that because this problem is so simple, we have not defined separate sets and parameters but instead have entered the data directly.  We will see how to build larger models next time!\n",
    "\n",
    "Execute the code cell using shift + enter."
   ]
  },
  {
   "cell_type": "code",
   "execution_count": 3,
   "id": "b8e8585d",
   "metadata": {
    "executionInfo": {
     "elapsed": 213,
     "status": "ok",
     "timestamp": 1694652848724,
     "user": {
      "displayName": "Emily Speakman",
      "userId": "07468169158597721782"
     },
     "user_tz": 360
    },
    "id": "b8e8585d"
   },
   "outputs": [],
   "source": [
    "# create model\n",
    "model = pyo.ConcreteModel()\n",
    "\n",
    "# variables\n",
    "model.x = pyo.Var(domain=pyo.NonNegativeReals)\n",
    "model.y = pyo.Var(domain=pyo.NonNegativeReals)\n",
    "\n",
    "# objective function\n",
    "def obj_rule(model):\n",
    "    return 3*model.x + 4*model.y\n",
    "\n",
    "model.obj = pyo.Objective(rule=obj_rule, sense=pyo.maximize)\n",
    "\n",
    "# labor constraint\n",
    "def labor_rule(model):\n",
    "    return 0.4*model.x + 0.4*model.y <= 40\n",
    "\n",
    "model.labor_constraint = pyo.Constraint(rule=labor_rule)\n",
    "\n",
    "# land constraint\n",
    "def land_rule(model):\n",
    "    return 0.1*model.x + 0.04*model.y <= 7\n",
    "\n",
    "model.land_constraint = pyo.Constraint(rule=land_rule)\n",
    "\n",
    "# government constraint\n",
    "def government_rule(model):\n",
    "    return model.x  >= 30\n",
    "\n",
    "model.government_constraint = pyo.Constraint(rule=government_rule)"
   ]
  },
  {
   "cell_type": "markdown",
   "id": "dedc4f64",
   "metadata": {},
   "source": [
    "## 3. Solve the Model\n",
    "\n",
    "The code below calls a Linear Programming solver (called Gurobi) to solve the model and then prints the optimal solution and optimal objective value for you in an easy-to-read format."
   ]
  },
  {
   "cell_type": "code",
   "execution_count": 5,
   "id": "c092bde5",
   "metadata": {
    "colab": {
     "base_uri": "https://localhost:8080/"
    },
    "executionInfo": {
     "elapsed": 212,
     "status": "ok",
     "timestamp": 1694652853228,
     "user": {
      "displayName": "Emily Speakman",
      "userId": "07468169158597721782"
     },
     "user_tz": 360
    },
    "id": "c092bde5",
    "outputId": "cc558f31-7788-4f18-ebf4-3001d8596d79"
   },
   "outputs": [
    {
     "name": "stdout",
     "output_type": "stream",
     "text": [
      "Farmer Jones should plant:\n",
      "30.0 bushels of corn and\n",
      "70.0 bushels of wheat\n",
      "for a profit of $370.0\n"
     ]
    }
   ],
   "source": [
    "# solve the model verbosely\n",
    "#result = pyo.SolverFactory('gurobi').solve(model, tee=True)\n",
    "\n",
    "# solve the model quietly\n",
    "result = pyo.SolverFactory('gurobi').solve(model)\n",
    "\n",
    "# print results\n",
    "# check if model solved to optimality then print results\n",
    "if (result.solver.termination_condition == pyo.TerminationCondition.optimal):\n",
    "    print('Farmer Jones should plant:')\n",
    "    print(f'{pyo.value(model.x)} bushels of corn and')\n",
    "    print(f'{pyo.value(model.y)} bushels of wheat')\n",
    "    print(f'for a profit of ${pyo.value(model.obj)}')\n",
    "else:\n",
    "    print('Optimal solution not attained.')\n",
    "    print(f'Solver termination condition: {result.solver.termination_condition}')"
   ]
  },
  {
   "cell_type": "code",
   "execution_count": null,
   "id": "029d44cc",
   "metadata": {
    "executionInfo": {
     "elapsed": 5,
     "status": "ok",
     "timestamp": 1694652484715,
     "user": {
      "displayName": "Emily Speakman",
      "userId": "07468169158597721782"
     },
     "user_tz": 360
    },
    "id": "029d44cc"
   },
   "outputs": [],
   "source": []
  }
 ],
 "metadata": {
  "colab": {
   "provenance": []
  },
  "kernelspec": {
   "display_name": "Python 3 (ipykernel)",
   "language": "python",
   "name": "python3"
  },
  "language_info": {
   "codemirror_mode": {
    "name": "ipython",
    "version": 3
   },
   "file_extension": ".py",
   "mimetype": "text/x-python",
   "name": "python",
   "nbconvert_exporter": "python",
   "pygments_lexer": "ipython3",
   "version": "3.11.4"
  }
 },
 "nbformat": 4,
 "nbformat_minor": 5
}
